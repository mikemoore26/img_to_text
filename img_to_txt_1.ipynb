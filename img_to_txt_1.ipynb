{
 "cells": [
  {
   "cell_type": "code",
   "execution_count": 1,
   "metadata": {},
   "outputs": [],
   "source": [
    "#pip install opencv-python"
   ]
  },
  {
   "cell_type": "code",
   "execution_count": 2,
   "metadata": {},
   "outputs": [],
   "source": [
    "\n",
    "#pip install pytesseract"
   ]
  },
  {
   "cell_type": "code",
   "execution_count": 3,
   "metadata": {},
   "outputs": [],
   "source": [
    "import pytesseract"
   ]
  },
  {
   "cell_type": "code",
   "execution_count": 4,
   "metadata": {},
   "outputs": [],
   "source": [
    "pytesseract.pytesseract.tesseract_cmd=r'/usr/local/bin/tesseract'"
   ]
  },
  {
   "cell_type": "code",
   "execution_count": 5,
   "metadata": {},
   "outputs": [],
   "source": [
    "import cv2"
   ]
  },
  {
   "cell_type": "code",
   "execution_count": 6,
   "metadata": {},
   "outputs": [
    {
     "name": "stdout",
     "output_type": "stream",
     "text": [
      "./data/testimage1.jpeg\n",
      "./data/testimage3 jpeg\n",
      "./data/test5.jpg\n",
      "./data/test4.png\n",
      "./data/test1.png\n",
      "./data/test3.png\n",
      "./data/testimage5 jpeg\n",
      "./data/test2.png\n",
      "./data/testimage4.jpeg\n",
      "./data/testimage1.tif\n",
      "./data/testimage2.jpeg\n"
     ]
    }
   ],
   "source": [
    "\n",
    "import os\n",
    "for d,_,f in os.walk('./data'):\n",
    "    for fn in f:\n",
    "        print(os.path.join(d,fn))"
   ]
  },
  {
   "cell_type": "code",
   "execution_count": 7,
   "metadata": {},
   "outputs": [],
   "source": [
    "i=2\n",
    "mine = f\"./data/test{i}.png\"\n",
    "tech = f\"./data/testimage{i}.jpeg\""
   ]
  },
  {
   "cell_type": "code",
   "execution_count": 8,
   "metadata": {},
   "outputs": [
    {
     "data": {
      "text/plain": [
       "-1"
      ]
     },
     "execution_count": 8,
     "metadata": {},
     "output_type": "execute_result"
    }
   ],
   "source": [
    "\n",
    "img=cv2.imread(mine)\n",
    "cv2.imshow('sample image',img)\n",
    "cv2.waitKey(0)\n",
    "cv2.destroyAllWindows()\n",
    "cv2.waitKey(1)"
   ]
  },
  {
   "cell_type": "code",
   "execution_count": 9,
   "metadata": {},
   "outputs": [
    {
     "name": "stdout",
     "output_type": "stream",
     "text": [
      "PH326051246/26145398\n",
      "TINS27620241762\n",
      "CASH/BILL\n",
      "\n",
      "HO 009742 0 FIP 0 09-07-2015\n",
      "\n",
      " \n",
      "\n",
      " \n",
      "\n",
      "DESCRIPTION QTY RATE AMOUNT\n",
      "ee\n",
      "PETROL 3-990 7518 300.00\n",
      "——\n",
      "CASH 300-00\n",
      "THARK YOUs.. VISIT AGAIH\n",
      "\n",
      "VV TIN!276302417620\n",
      "\n",
      "Ct 09:27:58 H/C KO. 0\n",
      "\f",
      "\n"
     ]
    }
   ],
   "source": [
    "\n",
    "text_1=pytesseract.image_to_string(img)\n",
    "print(text_1)"
   ]
  },
  {
   "cell_type": "code",
   "execution_count": null,
   "metadata": {},
   "outputs": [],
   "source": []
  },
  {
   "cell_type": "code",
   "execution_count": null,
   "metadata": {},
   "outputs": [],
   "source": []
  },
  {
   "cell_type": "code",
   "execution_count": null,
   "metadata": {},
   "outputs": [],
   "source": []
  }
 ],
 "metadata": {
  "kernelspec": {
   "display_name": "Python 3",
   "language": "python",
   "name": "python3"
  },
  "language_info": {
   "codemirror_mode": {
    "name": "ipython",
    "version": 3
   },
   "file_extension": ".py",
   "mimetype": "text/x-python",
   "name": "python",
   "nbconvert_exporter": "python",
   "pygments_lexer": "ipython3",
   "version": "3.9.0"
  }
 },
 "nbformat": 4,
 "nbformat_minor": 4
}
